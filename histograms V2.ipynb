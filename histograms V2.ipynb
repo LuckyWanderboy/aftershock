{
 "cells": [
  {
   "cell_type": "code",
   "execution_count": 51,
   "metadata": {},
   "outputs": [],
   "source": [
    "import random\n",
    "import numpy"
   ]
  },
  {
   "cell_type": "code",
   "execution_count": 52,
   "metadata": {},
   "outputs": [],
   "source": [
    "random.seed(3)"
   ]
  },
  {
   "cell_type": "code",
   "execution_count": 57,
   "metadata": {},
   "outputs": [],
   "source": [
    "def rand_gen(n, a, b):\n",
    "    L = []\n",
    "    \n",
    "    for i in range(n):\n",
    "        L.append(random.uniform(a, b))\n",
    "    \n",
    "    return L"
   ]
  },
  {
   "cell_type": "code",
   "execution_count": 58,
   "metadata": {},
   "outputs": [],
   "source": [
    "rand_nums = rand_gen(10, 0, 1000)"
   ]
  },
  {
   "cell_type": "code",
   "execution_count": 59,
   "metadata": {},
   "outputs": [
    {
     "data": {
      "text/plain": [
       "[237.96462709189137,\n",
       " 544.2292252959519,\n",
       " 369.95516654807926,\n",
       " 603.9200385961944,\n",
       " 625.720304108054,\n",
       " 65.5288592398131,\n",
       " 13.167991554874137,\n",
       " 837.4690820964599,\n",
       " 259.3540143280076,\n",
       " 234.33096104669636]"
      ]
     },
     "execution_count": 59,
     "metadata": {},
     "output_type": "execute_result"
    }
   ],
   "source": [
    "rand_nums"
   ]
  },
  {
   "cell_type": "code",
   "execution_count": 60,
   "metadata": {},
   "outputs": [],
   "source": [
    "def histogram(nums, bin_width):\n",
    "    hist = [0] * bin_width\n",
    "    \n",
    "    minVal = min(nums)\n",
    "    maxVal = max(nums)\n",
    "    extraBit = .0000000000001\n",
    "    interval = (maxVal - minVal) + extraBit\n",
    "    \n",
    "    for i in nums:\n",
    "        placement = (i - minVal) / interval\n",
    "        index = int(placement * bin_width)\n",
    "        hist[index] = hist[index] + 1\n",
    "\n",
    "    return hist"
   ]
  },
  {
   "cell_type": "code",
   "execution_count": 61,
   "metadata": {},
   "outputs": [
    {
     "data": {
      "text/plain": [
       "[2, 0, 3, 0, 1, 0, 1, 2, 0, 1]"
      ]
     },
     "execution_count": 61,
     "metadata": {},
     "output_type": "execute_result"
    }
   ],
   "source": [
    "histogram(rand_nums, 10)"
   ]
  },
  {
   "cell_type": "code",
   "execution_count": null,
   "metadata": {},
   "outputs": [],
   "source": []
  }
 ],
 "metadata": {
  "kernelspec": {
   "display_name": "Python 3",
   "language": "python",
   "name": "python3"
  },
  "language_info": {
   "codemirror_mode": {
    "name": "ipython",
    "version": 3
   },
   "file_extension": ".py",
   "mimetype": "text/x-python",
   "name": "python",
   "nbconvert_exporter": "python",
   "pygments_lexer": "ipython3",
   "version": "3.6.0"
  }
 },
 "nbformat": 4,
 "nbformat_minor": 2
}
